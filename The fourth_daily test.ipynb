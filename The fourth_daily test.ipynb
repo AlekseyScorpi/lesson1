{
 "cells": [
  {
   "cell_type": "markdown",
   "metadata": {},
   "source": [
    "### 1、Import tensorflow and use tensorflow to define a constant."
   ]
  },
  {
   "cell_type": "code",
   "execution_count": 2,
   "metadata": {},
   "outputs": [],
   "source": [
    "import tensorflow as tf\n",
    "hello = tf.constant(\"Hello, everybody! =)\")"
   ]
  },
  {
   "cell_type": "markdown",
   "metadata": {},
   "source": [
    "### 2、Use tensorflow to print 'Welcome to Huawei'."
   ]
  },
  {
   "cell_type": "code",
   "execution_count": 21,
   "metadata": {},
   "outputs": [
    {
     "name": "stdout",
     "output_type": "stream",
     "text": [
      "tf.Tensor(b'Welcome to Huawei', shape=(), dtype=string)\n"
     ]
    }
   ],
   "source": [
    "hello = tf.constant('Welcome to Huawei')\n",
    "print(hello)"
   ]
  },
  {
   "cell_type": "markdown",
   "metadata": {},
   "source": [
    "### 3、Use tensorflow to define two numeric constants,then calculate them and print the result."
   ]
  },
  {
   "cell_type": "code",
   "execution_count": 26,
   "metadata": {},
   "outputs": [
    {
     "name": "stdout",
     "output_type": "stream",
     "text": [
      "Sum = 12\n",
      "Sub = 6\n",
      "Prod = 27\n",
      "Div = 3\n"
     ]
    }
   ],
   "source": [
    "a = tf.constant(9)\n",
    "b = tf.constant(3)\n",
    "print(\"Sum = %i\" %(a + b))\n",
    "print(\"Sub = %i\" %(a - b))\n",
    "print(\"Prod = %i\" %(a * b))\n",
    "print(\"Div = %i\" %(a / b))"
   ]
  },
  {
   "cell_type": "markdown",
   "metadata": {},
   "source": [
    "### 4、Randomly generate two matrices using tensorflow, calculate and print the result of their multiplication."
   ]
  },
  {
   "cell_type": "code",
   "execution_count": 35,
   "metadata": {},
   "outputs": [
    {
     "name": "stdout",
     "output_type": "stream",
     "text": [
      "Prod by matrix = tf.Tensor(\n",
      "[[131.09804    95.04775    39.063034    2.2329483   1.0610603]\n",
      " [  7.9677095  66.72149    58.39647    87.5443    -52.656975 ]\n",
      " [122.07832    49.890392   10.281521  -47.87322    11.0706625]\n",
      " [-66.48852   -49.807655  -25.012123   37.658665  -26.64036  ]\n",
      " [ 52.050785   47.915504   23.02293   -11.203352   17.002474 ]], shape=(5, 5), dtype=float32)\n"
     ]
    }
   ],
   "source": [
    "matrix1 = tf.Variable(tf.random.normal([5,5],mean=1.0, stddev=5.0))\n",
    "matrix2 = tf.Variable(tf.random.normal([5,5],mean=1.0, stddev=5.0))\n",
    "res = tf.matmul(matrix1,matrix2)\n",
    "print(\"Prod by matrix =\" ,res)"
   ]
  },
  {
   "cell_type": "markdown",
   "metadata": {},
   "source": [
    "### 5、Try to use your own handwriting number to do image recognition"
   ]
  },
  {
   "cell_type": "code",
   "execution_count": null,
   "metadata": {},
   "outputs": [],
   "source": []
  }
 ],
 "metadata": {
  "kernelspec": {
   "display_name": "Python 3",
   "language": "python",
   "name": "python3"
  },
  "language_info": {
   "codemirror_mode": {
    "name": "ipython",
    "version": 3
   },
   "file_extension": ".py",
   "mimetype": "text/x-python",
   "name": "python",
   "nbconvert_exporter": "python",
   "pygments_lexer": "ipython3",
   "version": "3.7.9"
  }
 },
 "nbformat": 4,
 "nbformat_minor": 2
}
